{
 "cells": [
  {
   "cell_type": "code",
   "execution_count": 3,
   "id": "f0cbca63-804e-4d98-a0c8-15fc43017998",
   "metadata": {},
   "outputs": [],
   "source": [
    "import pandas as pd"
   ]
  },
  {
   "cell_type": "code",
   "execution_count": 4,
   "id": "f5d66152-455d-4ed6-9bf7-2f86baeea42f",
   "metadata": {},
   "outputs": [],
   "source": [
    "campaign_data = {\n",
    "    \"Network\": [\"Meta Ads\", \"Google AC\", \"Applovin\", \"TikTok\"],\n",
    "    \"Spend ($)\": [2000, 1500, 1200, 800],\n",
    "    \"Installs\": [1000, 800, 700, 600],\n",
    "    \"CPI ($)\": [2.00, 1.88, 1.71, 1.33],\n",
    "    \"D1 Retention\": [42, 38, 33, 40],\n",
    "    \"D3 Retention\": [25, 22, 19, 20],\n",
    "    \"D7 ROAS (%)\": [35, 45, 30, 20]\n",
    "}"
   ]
  },
  {
   "cell_type": "code",
   "execution_count": 5,
   "id": "eaa2430d-1072-4635-b4a4-02e3f4cf7e9d",
   "metadata": {},
   "outputs": [
    {
     "data": {
      "text/html": [
       "<div>\n",
       "<style scoped>\n",
       "    .dataframe tbody tr th:only-of-type {\n",
       "        vertical-align: middle;\n",
       "    }\n",
       "\n",
       "    .dataframe tbody tr th {\n",
       "        vertical-align: top;\n",
       "    }\n",
       "\n",
       "    .dataframe thead th {\n",
       "        text-align: right;\n",
       "    }\n",
       "</style>\n",
       "<table border=\"1\" class=\"dataframe\">\n",
       "  <thead>\n",
       "    <tr style=\"text-align: right;\">\n",
       "      <th></th>\n",
       "      <th>Spend ($)</th>\n",
       "      <th>Installs</th>\n",
       "      <th>CPI ($)</th>\n",
       "      <th>D1 Retention</th>\n",
       "      <th>D3 Retention</th>\n",
       "      <th>D7 ROAS (%)</th>\n",
       "    </tr>\n",
       "    <tr>\n",
       "      <th>Network</th>\n",
       "      <th></th>\n",
       "      <th></th>\n",
       "      <th></th>\n",
       "      <th></th>\n",
       "      <th></th>\n",
       "      <th></th>\n",
       "    </tr>\n",
       "  </thead>\n",
       "  <tbody>\n",
       "    <tr>\n",
       "      <th>Meta Ads</th>\n",
       "      <td>2000</td>\n",
       "      <td>1000</td>\n",
       "      <td>2.00</td>\n",
       "      <td>42</td>\n",
       "      <td>25</td>\n",
       "      <td>35</td>\n",
       "    </tr>\n",
       "    <tr>\n",
       "      <th>Google AC</th>\n",
       "      <td>1500</td>\n",
       "      <td>800</td>\n",
       "      <td>1.88</td>\n",
       "      <td>38</td>\n",
       "      <td>22</td>\n",
       "      <td>45</td>\n",
       "    </tr>\n",
       "    <tr>\n",
       "      <th>Applovin</th>\n",
       "      <td>1200</td>\n",
       "      <td>700</td>\n",
       "      <td>1.71</td>\n",
       "      <td>33</td>\n",
       "      <td>19</td>\n",
       "      <td>30</td>\n",
       "    </tr>\n",
       "    <tr>\n",
       "      <th>TikTok</th>\n",
       "      <td>800</td>\n",
       "      <td>600</td>\n",
       "      <td>1.33</td>\n",
       "      <td>40</td>\n",
       "      <td>20</td>\n",
       "      <td>20</td>\n",
       "    </tr>\n",
       "  </tbody>\n",
       "</table>\n",
       "</div>"
      ],
      "text/plain": [
       "           Spend ($)  Installs  CPI ($)  D1 Retention  D3 Retention  \\\n",
       "Network                                                               \n",
       "Meta Ads        2000      1000     2.00            42            25   \n",
       "Google AC       1500       800     1.88            38            22   \n",
       "Applovin        1200       700     1.71            33            19   \n",
       "TikTok           800       600     1.33            40            20   \n",
       "\n",
       "           D7 ROAS (%)  \n",
       "Network                 \n",
       "Meta Ads            35  \n",
       "Google AC           45  \n",
       "Applovin            30  \n",
       "TikTok              20  "
      ]
     },
     "execution_count": 5,
     "metadata": {},
     "output_type": "execute_result"
    }
   ],
   "source": [
    "df = pd.DataFrame(campaign_data)\n",
    "\n",
    "df= df.set_index(\"Network\") # I set the 'Network' column as an index to make the data easier to read.\n",
    "\n",
    "df"
   ]
  },
  {
   "cell_type": "markdown",
   "id": "aa255e13-afe6-420a-9462-2539bd16809f",
   "metadata": {},
   "source": [
    "##  PART 1 — Data Analysis"
   ]
  },
  {
   "cell_type": "markdown",
   "id": "a48052d9-0256-49b4-ad8d-3a074147b649",
   "metadata": {},
   "source": [
    "### 1. Calculate the Cost per Retained User (Day 3) for each network."
   ]
  },
  {
   "cell_type": "code",
   "execution_count": 6,
   "id": "32ef6f7a-458c-40d2-aae7-c030158da61e",
   "metadata": {},
   "outputs": [],
   "source": [
    "# D3 CPRU = CPI / D3 Retention"
   ]
  },
  {
   "cell_type": "code",
   "execution_count": 7,
   "id": "0b465100-4689-4923-8e07-da1ada348601",
   "metadata": {},
   "outputs": [],
   "source": [
    "# I converted the D3 Retention values in campaign_data to decimal numbers.\n",
    "df['D3_Retention_Decimal'] = df['D3 Retention'] / 100"
   ]
  },
  {
   "cell_type": "code",
   "execution_count": 8,
   "id": "bfd7ddfb-7c18-454d-b5c1-08d0d9c19938",
   "metadata": {},
   "outputs": [
    {
     "data": {
      "text/plain": [
       "Network\n",
       "Meta Ads     8.000000\n",
       "Google AC    8.545455\n",
       "Applovin     9.000000\n",
       "TikTok       6.650000\n",
       "Name: D3_CPRU ($), dtype: float64"
      ]
     },
     "execution_count": 8,
     "metadata": {},
     "output_type": "execute_result"
    }
   ],
   "source": [
    "df['D3_CPRU ($)'] = df['CPI ($)'] / df['D3_Retention_Decimal']\n",
    "\n",
    "df['D3_CPRU ($)']"
   ]
  },
  {
   "cell_type": "markdown",
   "id": "9368cd46-b0ed-4af1-9ff8-640077becad7",
   "metadata": {},
   "source": [
    "### 2. Rank the networks based on cost efficiency and ROI potential."
   ]
  },
  {
   "cell_type": "code",
   "execution_count": 9,
   "id": "7cd77b4e-8472-4022-b0fb-4cf670bfd939",
   "metadata": {},
   "outputs": [
    {
     "data": {
      "text/html": [
       "<div>\n",
       "<style scoped>\n",
       "    .dataframe tbody tr th:only-of-type {\n",
       "        vertical-align: middle;\n",
       "    }\n",
       "\n",
       "    .dataframe tbody tr th {\n",
       "        vertical-align: top;\n",
       "    }\n",
       "\n",
       "    .dataframe thead th {\n",
       "        text-align: right;\n",
       "    }\n",
       "</style>\n",
       "<table border=\"1\" class=\"dataframe\">\n",
       "  <thead>\n",
       "    <tr style=\"text-align: right;\">\n",
       "      <th></th>\n",
       "      <th>Spend ($)</th>\n",
       "      <th>Installs</th>\n",
       "      <th>CPI ($)</th>\n",
       "      <th>D1 Retention</th>\n",
       "      <th>D3 Retention</th>\n",
       "      <th>D7 ROAS (%)</th>\n",
       "      <th>D3_Retention_Decimal</th>\n",
       "      <th>D3_CPRU ($)</th>\n",
       "    </tr>\n",
       "    <tr>\n",
       "      <th>Network</th>\n",
       "      <th></th>\n",
       "      <th></th>\n",
       "      <th></th>\n",
       "      <th></th>\n",
       "      <th></th>\n",
       "      <th></th>\n",
       "      <th></th>\n",
       "      <th></th>\n",
       "    </tr>\n",
       "  </thead>\n",
       "  <tbody>\n",
       "    <tr>\n",
       "      <th>Meta Ads</th>\n",
       "      <td>2000</td>\n",
       "      <td>1000</td>\n",
       "      <td>2.00</td>\n",
       "      <td>42</td>\n",
       "      <td>25</td>\n",
       "      <td>35</td>\n",
       "      <td>0.25</td>\n",
       "      <td>8.000000</td>\n",
       "    </tr>\n",
       "    <tr>\n",
       "      <th>Google AC</th>\n",
       "      <td>1500</td>\n",
       "      <td>800</td>\n",
       "      <td>1.88</td>\n",
       "      <td>38</td>\n",
       "      <td>22</td>\n",
       "      <td>45</td>\n",
       "      <td>0.22</td>\n",
       "      <td>8.545455</td>\n",
       "    </tr>\n",
       "    <tr>\n",
       "      <th>Applovin</th>\n",
       "      <td>1200</td>\n",
       "      <td>700</td>\n",
       "      <td>1.71</td>\n",
       "      <td>33</td>\n",
       "      <td>19</td>\n",
       "      <td>30</td>\n",
       "      <td>0.19</td>\n",
       "      <td>9.000000</td>\n",
       "    </tr>\n",
       "    <tr>\n",
       "      <th>TikTok</th>\n",
       "      <td>800</td>\n",
       "      <td>600</td>\n",
       "      <td>1.33</td>\n",
       "      <td>40</td>\n",
       "      <td>20</td>\n",
       "      <td>20</td>\n",
       "      <td>0.20</td>\n",
       "      <td>6.650000</td>\n",
       "    </tr>\n",
       "  </tbody>\n",
       "</table>\n",
       "</div>"
      ],
      "text/plain": [
       "           Spend ($)  Installs  CPI ($)  D1 Retention  D3 Retention  \\\n",
       "Network                                                               \n",
       "Meta Ads        2000      1000     2.00            42            25   \n",
       "Google AC       1500       800     1.88            38            22   \n",
       "Applovin        1200       700     1.71            33            19   \n",
       "TikTok           800       600     1.33            40            20   \n",
       "\n",
       "           D7 ROAS (%)  D3_Retention_Decimal  D3_CPRU ($)  \n",
       "Network                                                    \n",
       "Meta Ads            35                  0.25     8.000000  \n",
       "Google AC           45                  0.22     8.545455  \n",
       "Applovin            30                  0.19     9.000000  \n",
       "TikTok              20                  0.20     6.650000  "
      ]
     },
     "execution_count": 9,
     "metadata": {},
     "output_type": "execute_result"
    }
   ],
   "source": [
    "df"
   ]
  },
  {
   "cell_type": "code",
   "execution_count": 10,
   "id": "807107db-8f33-422e-9257-7f2cdd3d7823",
   "metadata": {},
   "outputs": [],
   "source": [
    "# Cost Efficiency = > Lower is better\n",
    "# ROI (Return on Investment) = Net Profit / Cost of Investment = > Higher is better"
   ]
  },
  {
   "cell_type": "code",
   "execution_count": 11,
   "id": "61b3d76a-8bd4-4c83-9a8b-7e024b0841b6",
   "metadata": {},
   "outputs": [
    {
     "name": "stdout",
     "output_type": "stream",
     "text": [
      "Cost Efficiency Ranking\n",
      "           D3_CPRU ($)  CPI ($)\n",
      "Network                        \n",
      "TikTok        6.650000     1.33\n",
      "Meta Ads      8.000000     2.00\n",
      "Google AC     8.545455     1.88\n",
      "Applovin      9.000000     1.71\n"
     ]
    }
   ],
   "source": [
    "df_cost_efficiency = df.sort_values(by='D3_CPRU ($)', ascending=True)\n",
    "\n",
    "print(\"Cost Efficiency Ranking\")\n",
    "print(df_cost_efficiency[['D3_CPRU ($)', 'CPI ($)']])"
   ]
  },
  {
   "cell_type": "code",
   "execution_count": 12,
   "id": "53ae7c78-327e-49fc-8c2c-ce75f2d49345",
   "metadata": {},
   "outputs": [
    {
     "name": "stdout",
     "output_type": "stream",
     "text": [
      "ROI Potential Ranking\n",
      "           D7 ROAS (%)  CPI ($)\n",
      "Network                        \n",
      "Google AC           45     1.88\n",
      "Meta Ads            35     2.00\n",
      "Applovin            30     1.71\n",
      "TikTok              20     1.33\n"
     ]
    }
   ],
   "source": [
    "df_roi_potential = df.sort_values(by='D7 ROAS (%)', ascending=False)\n",
    "\n",
    "print(\"ROI Potential Ranking\")\n",
    "print(df_roi_potential[['D7 ROAS (%)', 'CPI ($)']])"
   ]
  },
  {
   "cell_type": "markdown",
   "id": "1d30c1a7-c72c-4d24-89ca-de40a64830b2",
   "metadata": {},
   "source": [
    "###  3. Based on the data, which network(s) would you scale next, pause, or re-test — and why?"
   ]
  },
  {
   "cell_type": "code",
   "execution_count": 13,
   "id": "913d545a-bd5a-4c0e-b445-791e5c421ca9",
   "metadata": {},
   "outputs": [
    {
     "data": {
      "text/plain": [
       "D3_CPRU ($)    8.048864\n",
       "dtype: float64"
      ]
     },
     "execution_count": 13,
     "metadata": {},
     "output_type": "execute_result"
    }
   ],
   "source": [
    "# Average D3_CPRU\n",
    "\n",
    "df_cost_efficiency[['D3_CPRU ($)']].mean()"
   ]
  },
  {
   "cell_type": "code",
   "execution_count": 14,
   "id": "6f01abf3-b808-4a4b-b7c2-82d44c6bd8fd",
   "metadata": {},
   "outputs": [
    {
     "data": {
      "text/plain": [
       "D7 ROAS (%)    32.5\n",
       "dtype: float64"
      ]
     },
     "execution_count": 14,
     "metadata": {},
     "output_type": "execute_result"
    }
   ],
   "source": [
    "# Average D7 ROAS\n",
    "\n",
    "df_roi_potential[['D7 ROAS (%)']].mean()"
   ]
  },
  {
   "cell_type": "markdown",
   "id": "a44a1a82-a896-4753-90af-8eb99d10e49f",
   "metadata": {},
   "source": [
    "``` bash \n",
    "\n",
    "*** Google AC => Scale: The network with the highest D7 ROAS (45%). This indicates it brings in the most profitable user base. CPI = $1.88, CPRU = $8.55, and D7 ROAS = 45%\n",
    "\n",
    "- The network generates the highest monetization (earnings) per user.\n",
    "- While CPRU is slightly below average, profitability is the highest priority.\n",
    "\n",
    "```\n",
    "\n",
    "``` bash\n",
    "*** Meta Ads => Re-Test: While D3 CPRU is better than Google's, D7 ROAS (35%) is lower. D7 ROAS = 35%, CPRU = $8.00 → seems balanced. CPI = $2.00 → slightly higher than other networks, but ROI potential appears positive.\n",
    "\n",
    "- Considering the CPRU cost, ROAS is not bad. ROAS is 35% → has potential.\n",
    "- The network performs well in terms of user quality and ROAS. However, the high CPI and moderate CPRU could be improved.\n",
    "\n",
    "```\n",
    "\n",
    "``` bash\n",
    "\n",
    "*** TikTok → Re-Test: Best CPRU ($6.65) → cheapest retained user, but D7 ROAS = 20% → lowest revenue. Its lowest D7 ROAS (20%) suggests that the users it brings in are not making money.\n",
    "\n",
    "- Recruited users are not spending money (mostly free users), which could lead to low LTV.\n",
    "- However, the user acquisition cost is low.\n",
    "```\n",
    "\n",
    "``` bash\n",
    "\n",
    "*** Applovin → Pause: It has the worst D3 CPRU ($9.00) and the lowest D3 retention rate (19%). While its ROAS is 30%, it appears to be very weak compared to other networks in terms of efficiency. It seems more efficient to redirect spending to other, more efficient networks.\n",
    "\n",
    "- The combination of high CPRU and low ROAS is not profitable.\n",
    "\n",
    "```\n"
   ]
  },
  {
   "cell_type": "markdown",
   "id": "435a7e54-7e58-4ea2-adb6-84a2ecf44ef1",
   "metadata": {},
   "source": [
    "### 4. Identify 2–3 possible hypotheses to improve performance (e.g., creative direction, audience type, event optimization)."
   ]
  },
  {
   "cell_type": "code",
   "execution_count": 15,
   "id": "45e63151-9847-4d66-81f4-125bf777a3e6",
   "metadata": {},
   "outputs": [],
   "source": [
    "# The game is monetized with 'interstitial ads' and 'rewarded videos', with a small 'in-app purchase (IAP)'share."
   ]
  },
  {
   "cell_type": "code",
   "execution_count": 16,
   "id": "69e99a06-1faa-44ef-b168-dacba2892c0e",
   "metadata": {},
   "outputs": [
    {
     "data": {
      "text/html": [
       "<div>\n",
       "<style scoped>\n",
       "    .dataframe tbody tr th:only-of-type {\n",
       "        vertical-align: middle;\n",
       "    }\n",
       "\n",
       "    .dataframe tbody tr th {\n",
       "        vertical-align: top;\n",
       "    }\n",
       "\n",
       "    .dataframe thead th {\n",
       "        text-align: right;\n",
       "    }\n",
       "</style>\n",
       "<table border=\"1\" class=\"dataframe\">\n",
       "  <thead>\n",
       "    <tr style=\"text-align: right;\">\n",
       "      <th></th>\n",
       "      <th>D7 ROAS (%)</th>\n",
       "      <th>D3_CPRU ($)</th>\n",
       "      <th>CPI ($)</th>\n",
       "    </tr>\n",
       "    <tr>\n",
       "      <th>Network</th>\n",
       "      <th></th>\n",
       "      <th></th>\n",
       "      <th></th>\n",
       "    </tr>\n",
       "  </thead>\n",
       "  <tbody>\n",
       "    <tr>\n",
       "      <th>Meta Ads</th>\n",
       "      <td>35</td>\n",
       "      <td>8.000000</td>\n",
       "      <td>2.00</td>\n",
       "    </tr>\n",
       "    <tr>\n",
       "      <th>Google AC</th>\n",
       "      <td>45</td>\n",
       "      <td>8.545455</td>\n",
       "      <td>1.88</td>\n",
       "    </tr>\n",
       "    <tr>\n",
       "      <th>Applovin</th>\n",
       "      <td>30</td>\n",
       "      <td>9.000000</td>\n",
       "      <td>1.71</td>\n",
       "    </tr>\n",
       "    <tr>\n",
       "      <th>TikTok</th>\n",
       "      <td>20</td>\n",
       "      <td>6.650000</td>\n",
       "      <td>1.33</td>\n",
       "    </tr>\n",
       "  </tbody>\n",
       "</table>\n",
       "</div>"
      ],
      "text/plain": [
       "           D7 ROAS (%)  D3_CPRU ($)  CPI ($)\n",
       "Network                                     \n",
       "Meta Ads            35     8.000000     2.00\n",
       "Google AC           45     8.545455     1.88\n",
       "Applovin            30     9.000000     1.71\n",
       "TikTok              20     6.650000     1.33"
      ]
     },
     "execution_count": 16,
     "metadata": {},
     "output_type": "execute_result"
    }
   ],
   "source": [
    "df[[\"D7 ROAS (%)\",\"D3_CPRU ($)\", \"CPI ($)\" ]]"
   ]
  },
  {
   "cell_type": "markdown",
   "id": "4c70bb53-a1e2-485c-b8c7-c5f20c75e440",
   "metadata": {},
   "source": [
    "Hypothesis 1 — Creative-matching hypothesis (TikTok):\n",
    "\n",
    "TikTok has the best CPI despite its low D7 ROAS. Its CPRU is also low ($6.65), meaning users are attracted at a lower cost, but quality is lower.\n",
    "\n",
    "Hypothesis\n",
    "\n",
    "If TikTok creatives (interstitial ads) are better matched to the gaming experience (creative matching), user quality will increase, and the D7 ROAS will increase. If interstitial creative reflects real gameplay moments, users will be attracted with genuine motivation. This will increase retention and LTV.\n",
    "\n",
    "Hypothesis 2 — Audience Optimization Hypothesis (Meta)\n",
    "\n",
    "Meta has a good D7 ROAS, but its CPRU is slightly high. High-quality but expensive users. This may indicate that campaigns are still focused on existing audiences and the system is not sufficiently exploring less expensive users.\n",
    "\n",
    "Hypothesis\n",
    "\n",
    "If the campaign target audience is optimized and expanded to broader or more cost-effective lookalike/interest audiences, the system can achieve cheaper installs and the CPI will decrease."
   ]
  },
  {
   "cell_type": "markdown",
   "id": "ac55cee7-c466-41ff-a887-32519a2d1d02",
   "metadata": {},
   "source": [
    "## PART 2 — Creative Performance Deep Dive"
   ]
  },
  {
   "cell_type": "markdown",
   "id": "99ece483-f9ba-4eff-9807-120f46c45742",
   "metadata": {},
   "source": [
    "### 1. Analyze the relationship between CTR, CVR, CPI, and ROAS."
   ]
  },
  {
   "cell_type": "code",
   "execution_count": 17,
   "id": "fe1a4cf9-0bde-415d-826e-cb5b34bcf716",
   "metadata": {},
   "outputs": [],
   "source": [
    "performance_data = {\n",
    "    'Creative': ['A – Funny Fails', 'B – Satisfying Merge', 'C – Challenge Level'],\n",
    "    'CTR (%)': [3.8, 2.2, 4.5],\n",
    "    'CVR (%)': [40, 45, 35],\n",
    "    'CPI ($)': [2.10, 1.80, 1.60],\n",
    "    'D1 Retention': ['43%', '41%', '35%'],\n",
    "    'D7 ROAS (%)': [32, 38, 25]\n",
    "}"
   ]
  },
  {
   "cell_type": "code",
   "execution_count": 18,
   "id": "17d04a10-5dbc-4c58-bf0f-24a8466398f4",
   "metadata": {},
   "outputs": [
    {
     "data": {
      "text/html": [
       "<div>\n",
       "<style scoped>\n",
       "    .dataframe tbody tr th:only-of-type {\n",
       "        vertical-align: middle;\n",
       "    }\n",
       "\n",
       "    .dataframe tbody tr th {\n",
       "        vertical-align: top;\n",
       "    }\n",
       "\n",
       "    .dataframe thead th {\n",
       "        text-align: right;\n",
       "    }\n",
       "</style>\n",
       "<table border=\"1\" class=\"dataframe\">\n",
       "  <thead>\n",
       "    <tr style=\"text-align: right;\">\n",
       "      <th></th>\n",
       "      <th>CTR (%)</th>\n",
       "      <th>CVR (%)</th>\n",
       "      <th>CPI ($)</th>\n",
       "      <th>D1 Retention</th>\n",
       "      <th>D7 ROAS (%)</th>\n",
       "    </tr>\n",
       "    <tr>\n",
       "      <th>Creative</th>\n",
       "      <th></th>\n",
       "      <th></th>\n",
       "      <th></th>\n",
       "      <th></th>\n",
       "      <th></th>\n",
       "    </tr>\n",
       "  </thead>\n",
       "  <tbody>\n",
       "    <tr>\n",
       "      <th>A – Funny Fails</th>\n",
       "      <td>3.8</td>\n",
       "      <td>40</td>\n",
       "      <td>2.1</td>\n",
       "      <td>43%</td>\n",
       "      <td>32</td>\n",
       "    </tr>\n",
       "    <tr>\n",
       "      <th>B – Satisfying Merge</th>\n",
       "      <td>2.2</td>\n",
       "      <td>45</td>\n",
       "      <td>1.8</td>\n",
       "      <td>41%</td>\n",
       "      <td>38</td>\n",
       "    </tr>\n",
       "    <tr>\n",
       "      <th>C – Challenge Level</th>\n",
       "      <td>4.5</td>\n",
       "      <td>35</td>\n",
       "      <td>1.6</td>\n",
       "      <td>35%</td>\n",
       "      <td>25</td>\n",
       "    </tr>\n",
       "  </tbody>\n",
       "</table>\n",
       "</div>"
      ],
      "text/plain": [
       "                      CTR (%)  CVR (%)  CPI ($) D1 Retention  D7 ROAS (%)\n",
       "Creative                                                                 \n",
       "A – Funny Fails           3.8       40      2.1          43%           32\n",
       "B – Satisfying Merge      2.2       45      1.8          41%           38\n",
       "C – Challenge Level       4.5       35      1.6          35%           25"
      ]
     },
     "execution_count": 18,
     "metadata": {},
     "output_type": "execute_result"
    }
   ],
   "source": [
    "df_meta = pd.DataFrame(performance_data)\n",
    "\n",
    "df_meta= df_meta.set_index(\"Creative\")\n",
    "\n",
    "df_meta"
   ]
  },
  {
   "cell_type": "markdown",
   "id": "2b5d2502-4d91-4b00-9ff4-59cdbfa40a00",
   "metadata": {},
   "source": [
    "CTR (Click-through rate) => (Number of clicks / number of impressions) * 100, shows how attractive the ad is to the audience.\n",
    "CVR (Conversion rate) => (conversions / total visitors) * 100 , shows how effective the post-click experience is at driving installs.\n",
    "\n",
    "Creative C: Highest CTR (4.5%) → ad attracts attention, but low CVR (35%) → most clickers don't install.\n",
    "\n",
    "Creative B: Lowest CTR (2.2%) → fewer people click, but most clickers install (45% CVR).\n",
    "\n",
    "Creative A: Medium CTR (3.8%) and medium CVR (40%) → ad attracts sufficient attention, and most clickers install. This demonstrates a balanced performance, potentially in a good spot in terms of both user volume and quality.\n",
    "\n",
    "Creative C: Lowest CPI (1.6) → clicks are cheap, and some install.\n",
    "\n",
    "Creative A: Medium CTR and CVR, but the most expensive CPI (2.1) → cost-per-click and quality are slightly high.\n",
    "\n",
    "Creative B: Medium CPI (1.8) → increases ROAS thanks to high CVR.\n",
    "\n",
    "Creative B: Highest D7 ROAS (38%) → clickers are high-quality and spend.\n",
    "\n",
    "Creative C: Low ROAS (25%) → clicks are cheap, but users don't spend in-game.\n",
    "\n",
    "Linked to D1 Retention: High D1 retention → generally high ROAS.\n",
    "\n",
    "A: 43% → ROAS 32, B: 41% → ROAS 38, C: 35% → ROAS 25"
   ]
  },
  {
   "cell_type": "code",
   "execution_count": 19,
   "id": "6cef8985-c40d-431c-afdd-6839f84c5aa4",
   "metadata": {},
   "outputs": [],
   "source": [
    "## Let's make a hypothetical calculation based on a user base of 10,000 people.\n",
    "\n",
    "\n",
    "fake_data = {\n",
    "    \"Creative\": [\"A – Funny Fails\", \"B – Satisfying Merge\", \"C – Challenge Level\"],\n",
    "    \"CTR\": [3.8, 2.2, 4.5],      \n",
    "    \"CVR\": [40, 45, 35],    \n",
    "    \"CPI\": [2.1, 1.8, 1.6],       \n",
    "    \"D7_ROAS\": [32, 38, 25]   \n",
    "}\n",
    "\n",
    "df = pd.DataFrame(fake_data)\n",
    "impressions = 10000\n"
   ]
  },
  {
   "cell_type": "code",
   "execution_count": 20,
   "id": "9eb4a9d6-a73e-42bd-a034-f9f19734788b",
   "metadata": {},
   "outputs": [],
   "source": [
    "df[\"Clicks\"] = impressions * df[\"CTR\"] / 100\n",
    "\n",
    "df[\"Installs\"] = df[\"Clicks\"] * df[\"CVR\"] / 100\n",
    "\n",
    "df[\"Cost\"] = df[\"Installs\"] * df[\"CPI\"]\n",
    "\n",
    "df[\"Revenue\"] = df[\"Cost\"] * df[\"D7_ROAS\"] / 100"
   ]
  },
  {
   "cell_type": "code",
   "execution_count": 21,
   "id": "360a39f0-ccb1-4795-825a-6f7dff25e218",
   "metadata": {},
   "outputs": [
    {
     "data": {
      "text/html": [
       "<div>\n",
       "<style scoped>\n",
       "    .dataframe tbody tr th:only-of-type {\n",
       "        vertical-align: middle;\n",
       "    }\n",
       "\n",
       "    .dataframe tbody tr th {\n",
       "        vertical-align: top;\n",
       "    }\n",
       "\n",
       "    .dataframe thead th {\n",
       "        text-align: right;\n",
       "    }\n",
       "</style>\n",
       "<table border=\"1\" class=\"dataframe\">\n",
       "  <thead>\n",
       "    <tr style=\"text-align: right;\">\n",
       "      <th></th>\n",
       "      <th>Creative</th>\n",
       "      <th>Clicks</th>\n",
       "      <th>Installs</th>\n",
       "      <th>Cost</th>\n",
       "      <th>Revenue</th>\n",
       "    </tr>\n",
       "  </thead>\n",
       "  <tbody>\n",
       "    <tr>\n",
       "      <th>0</th>\n",
       "      <td>A – Funny Fails</td>\n",
       "      <td>380</td>\n",
       "      <td>152</td>\n",
       "      <td>319.2</td>\n",
       "      <td>102.14</td>\n",
       "    </tr>\n",
       "    <tr>\n",
       "      <th>1</th>\n",
       "      <td>B – Satisfying Merge</td>\n",
       "      <td>220</td>\n",
       "      <td>99</td>\n",
       "      <td>178.2</td>\n",
       "      <td>67.72</td>\n",
       "    </tr>\n",
       "    <tr>\n",
       "      <th>2</th>\n",
       "      <td>C – Challenge Level</td>\n",
       "      <td>450</td>\n",
       "      <td>158</td>\n",
       "      <td>252.0</td>\n",
       "      <td>63.00</td>\n",
       "    </tr>\n",
       "  </tbody>\n",
       "</table>\n",
       "</div>"
      ],
      "text/plain": [
       "               Creative  Clicks  Installs   Cost  Revenue\n",
       "0       A – Funny Fails     380       152  319.2   102.14\n",
       "1  B – Satisfying Merge     220        99  178.2    67.72\n",
       "2   C – Challenge Level     450       158  252.0    63.00"
      ]
     },
     "execution_count": 21,
     "metadata": {},
     "output_type": "execute_result"
    }
   ],
   "source": [
    "df[\"Clicks\"] = df[\"Clicks\"].round(0).astype(int)\n",
    "df[\"Installs\"] = df[\"Installs\"].round(0).astype(int)\n",
    "df[\"Cost\"] = df[\"Cost\"].round(2)\n",
    "df[\"Revenue\"] = df[\"Revenue\"].round(2)\n",
    "\n",
    "# Results\n",
    "df[[\"Creative\", \"Clicks\", \"Installs\", \"Cost\", \"Revenue\"]]"
   ]
  },
  {
   "cell_type": "markdown",
   "id": "89192864-f9e7-45ab-9667-c34c635febb6",
   "metadata": {},
   "source": [
    "Comments:\n",
    "\n",
    "Creative A: Revenue $102.1 → slightly high cost, but highest ROAS. Balanced performance.\n",
    "\n",
    "Creative B: Revenue $67.7 → low cost and high ROAS, but low total user count.\n",
    "\n",
    "Creative C: Revenue $63.2 → high user count, low cost, but very low ROAS → low profitability."
   ]
  },
  {
   "cell_type": "markdown",
   "id": "d17a49fc-ec04-4428-9b48-e58eb1ec67f6",
   "metadata": {},
   "source": [
    "###  2. Which creative would you continue, pause, or iterate on?"
   ]
  },
  {
   "cell_type": "markdown",
   "id": "ffcb2378-9985-4f2a-ac9e-313b4fe989ce",
   "metadata": {},
   "source": [
    "Creative B -> Continue\n",
    "\n",
    "This creative has the highest D7 ROAS (38%), high CVR (45%), and good D1 retention (41%). This means the users who click are high-quality and profitable. Therefore, it makes sense to continue and scale.\n",
    "\n",
    "Creative A -> Iterate\n",
    "\n",
    "This creative performs well: moderate ROAS (32%), moderate CPI ($2.1), and good D1 retention (43%). This means users are both clicking and downloading sufficiently. ROAS can be increased with new opening hooks, visual tone, or CTA changes.\n",
    "\n",
    "Creative C -> Pause\n",
    "\n",
    "Despite attracting attention with a high CTR (4.5%), CVR is low (35%), and D7 ROAS is low (25%). This indicates that most users are low-quality or low-spending users. It can be paused for now or retested with optimized targeting.\n",
    "\n",
    "\n",
    "Continue → ROAS ve retention yüksek, karlı kreatif\n",
    "\n",
    "Pause → ROAS düşük, maliyet yüksek, düşük kaliteli kullanıcı\n",
    "\n",
    "Iterate → Orta performans, optimize edilip test edilebilir"
   ]
  },
  {
   "cell_type": "markdown",
   "id": "e59ad16a-25d0-4d67-938d-0da283c8efb0",
   "metadata": {},
   "source": [
    "###  3. Suggest two data-backed creative iteration ideas (e.g., new opening hook, visual tone, or CTA variation)"
   ]
  },
  {
   "cell_type": "markdown",
   "id": "bc8bf06b-4d49-42be-ae98-de02a846c3b5",
   "metadata": {},
   "source": [
    "Creative Iteration Plan – Funny Fails\n",
    "\n",
    "Current Status (Decision: Iterate)\n",
    "\n",
    "- CTR: 3.8% → Medium\n",
    "- CVR: 40% → Medium\n",
    "- D1 Retention: 43% → Strong\n",
    "- D7 ROAS: 32% → Medium"
   ]
  },
  {
   "cell_type": "markdown",
   "id": "58ead4a1-9c69-4f89-9f36-c661dbec6044",
   "metadata": {},
   "source": [
    "| #     | Iteration Idea                     | Description                                                                                      | Target Metric(s)                   | Expected Impact                                                               |\n",
    "| ----- | ---------------------------------- | ------------------------------------------------------------------------------------------------ | ---------------------------------- | ----------------------------------------------------------------------------- |\n",
    "| **1** | **New Opening Hook**               | Show the funniest or most unexpected “fail” moment in the first 2 seconds of the ad.             | **CTR**, **CVR**, **D1 Retention** | Captures user attention early and increases click-through and install rates.  |\n",
    "| **2** | **Visual Tone & CTA Variation**    | Use brighter colors, character-focused scenes, and clearer CTAs like “Try it now and have fun!”. | **ROAS**, **CVR**                  | Boosts engagement and drives higher in-app purchases post-install.            |\n",
    "| **3** | **Sound Cue Optimization** | Add funny or surprising sound effects during “fail” moments to draw attention.                   | **CTR**, **D1 Retention**          | Makes the ad more memorable and engaging, improving watch time and retention. |\n"
   ]
  },
  {
   "cell_type": "markdown",
   "id": "2ac4e887-0323-4e4c-a6fc-356517447edc",
   "metadata": {},
   "source": [
    "## References"
   ]
  },
  {
   "cell_type": "markdown",
   "id": "c79c5e7b-36a4-4784-bac9-eb9d6920118a",
   "metadata": {},
   "source": [
    "- https://tr-tr.facebook.com/business/help/139628083350822\n",
    "- https://ads.tiktok.com/help/article/creative-center?lang=tr\n",
    "- https://www.appsflyer.com/glossary/interstitials/\n",
    "- https://metalla.digital/meta-ad-hooks-that-drive-conversions-in-2025/\n",
    "- https://www.ideasoft.com.tr/call-to-action-cta-nedir/\n",
    "- https://segwise.ai/blog/optimization-techniques-meta-ad-campaigns-mobile-gaming\n",
    "- https://www.facebook.com/business/ads-guide/update/video/audience-network-native/app-installs"
   ]
  },
  {
   "cell_type": "code",
   "execution_count": null,
   "id": "b86b71bd-5d56-48f2-acc0-68f6dc732ecd",
   "metadata": {},
   "outputs": [],
   "source": []
  }
 ],
 "metadata": {
  "kernelspec": {
   "display_name": "Python 3 (ipykernel)",
   "language": "python",
   "name": "python3"
  },
  "language_info": {
   "codemirror_mode": {
    "name": "ipython",
    "version": 3
   },
   "file_extension": ".py",
   "mimetype": "text/x-python",
   "name": "python",
   "nbconvert_exporter": "python",
   "pygments_lexer": "ipython3",
   "version": "3.12.7"
  }
 },
 "nbformat": 4,
 "nbformat_minor": 5
}
