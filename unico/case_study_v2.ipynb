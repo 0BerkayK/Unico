{
 "cells": [
  {
   "cell_type": "code",
   "execution_count": 1,
   "id": "f386cebb-496e-47af-b4b6-2d053ef33491",
   "metadata": {},
   "outputs": [],
   "source": [
    "import pandas as pd"
   ]
  },
  {
   "cell_type": "code",
   "execution_count": 2,
   "id": "f93803fc-b289-4d37-adb7-31dbec633621",
   "metadata": {},
   "outputs": [],
   "source": [
    "campaign_data = {\n",
    "    \"Network\": [\"Meta Ads\", \"Google AC\", \"Applovin\", \"TikTok\"],\n",
    "    \"Spend ($)\": [2000, 1500, 1200, 800],\n",
    "    \"Installs\": [1000, 800, 700, 600],\n",
    "    \"CPI ($)\": [2.00, 1.88, 1.71, 1.33],\n",
    "    \"D1 Retention\": [0.42, 0.38, 0.33, 0.40],\n",
    "    \"D3 Retention\": [0.25, 0.22, 0.19,0.20],\n",
    "    \"D7 ROAS (%)\": [35, 45, 30, 20]\n",
    "}"
   ]
  },
  {
   "cell_type": "code",
   "execution_count": 3,
   "id": "387f9a15-ccf9-47f6-8fa2-5d4c66128919",
   "metadata": {},
   "outputs": [
    {
     "data": {
      "text/html": [
       "<div>\n",
       "<style scoped>\n",
       "    .dataframe tbody tr th:only-of-type {\n",
       "        vertical-align: middle;\n",
       "    }\n",
       "\n",
       "    .dataframe tbody tr th {\n",
       "        vertical-align: top;\n",
       "    }\n",
       "\n",
       "    .dataframe thead th {\n",
       "        text-align: right;\n",
       "    }\n",
       "</style>\n",
       "<table border=\"1\" class=\"dataframe\">\n",
       "  <thead>\n",
       "    <tr style=\"text-align: right;\">\n",
       "      <th></th>\n",
       "      <th>Spend ($)</th>\n",
       "      <th>Installs</th>\n",
       "      <th>CPI ($)</th>\n",
       "      <th>D1 Retention</th>\n",
       "      <th>D3 Retention</th>\n",
       "      <th>D7 ROAS (%)</th>\n",
       "    </tr>\n",
       "    <tr>\n",
       "      <th>Network</th>\n",
       "      <th></th>\n",
       "      <th></th>\n",
       "      <th></th>\n",
       "      <th></th>\n",
       "      <th></th>\n",
       "      <th></th>\n",
       "    </tr>\n",
       "  </thead>\n",
       "  <tbody>\n",
       "    <tr>\n",
       "      <th>Meta Ads</th>\n",
       "      <td>2000</td>\n",
       "      <td>1000</td>\n",
       "      <td>2.00</td>\n",
       "      <td>0.42</td>\n",
       "      <td>0.25</td>\n",
       "      <td>35</td>\n",
       "    </tr>\n",
       "    <tr>\n",
       "      <th>Google AC</th>\n",
       "      <td>1500</td>\n",
       "      <td>800</td>\n",
       "      <td>1.88</td>\n",
       "      <td>0.38</td>\n",
       "      <td>0.22</td>\n",
       "      <td>45</td>\n",
       "    </tr>\n",
       "    <tr>\n",
       "      <th>Applovin</th>\n",
       "      <td>1200</td>\n",
       "      <td>700</td>\n",
       "      <td>1.71</td>\n",
       "      <td>0.33</td>\n",
       "      <td>0.19</td>\n",
       "      <td>30</td>\n",
       "    </tr>\n",
       "    <tr>\n",
       "      <th>TikTok</th>\n",
       "      <td>800</td>\n",
       "      <td>600</td>\n",
       "      <td>1.33</td>\n",
       "      <td>0.40</td>\n",
       "      <td>0.20</td>\n",
       "      <td>20</td>\n",
       "    </tr>\n",
       "  </tbody>\n",
       "</table>\n",
       "</div>"
      ],
      "text/plain": [
       "           Spend ($)  Installs  CPI ($)  D1 Retention  D3 Retention  \\\n",
       "Network                                                               \n",
       "Meta Ads        2000      1000     2.00          0.42          0.25   \n",
       "Google AC       1500       800     1.88          0.38          0.22   \n",
       "Applovin        1200       700     1.71          0.33          0.19   \n",
       "TikTok           800       600     1.33          0.40          0.20   \n",
       "\n",
       "           D7 ROAS (%)  \n",
       "Network                 \n",
       "Meta Ads            35  \n",
       "Google AC           45  \n",
       "Applovin            30  \n",
       "TikTok              20  "
      ]
     },
     "execution_count": 3,
     "metadata": {},
     "output_type": "execute_result"
    }
   ],
   "source": [
    "df = pd.DataFrame(campaign_data)\n",
    "\n",
    "df= df.set_index(\"Network\") # I set the 'Network' column as an index to make the data easier to read.\n",
    "\n",
    "df"
   ]
  },
  {
   "cell_type": "markdown",
   "id": "3c405a4d-47c0-450c-b766-af88b748f032",
   "metadata": {},
   "source": [
    "##  PART 1 — Data Analysis"
   ]
  },
  {
   "cell_type": "markdown",
   "id": "0f84c1e9-1bbd-4911-afd2-de4a56834468",
   "metadata": {},
   "source": [
    "### Tasks : "
   ]
  },
  {
   "cell_type": "markdown",
   "id": "bc28120b-3ce2-4a8c-98db-c481249adeb9",
   "metadata": {},
   "source": [
    "### 1. Calculate the Cost per Retained User (Day 3) for each network."
   ]
  },
  {
   "cell_type": "code",
   "execution_count": 4,
   "id": "0dbf9f76-814d-4ac2-a335-54740b23cf38",
   "metadata": {},
   "outputs": [],
   "source": [
    "# Cost per Retained User (Day-3) = Spend / (Installs × D3_retention)"
   ]
  },
  {
   "cell_type": "code",
   "execution_count": 5,
   "id": "9643c21b-2c1f-485b-a810-46c17afe4145",
   "metadata": {},
   "outputs": [
    {
     "data": {
      "text/html": [
       "<div>\n",
       "<style scoped>\n",
       "    .dataframe tbody tr th:only-of-type {\n",
       "        vertical-align: middle;\n",
       "    }\n",
       "\n",
       "    .dataframe tbody tr th {\n",
       "        vertical-align: top;\n",
       "    }\n",
       "\n",
       "    .dataframe thead th {\n",
       "        text-align: right;\n",
       "    }\n",
       "</style>\n",
       "<table border=\"1\" class=\"dataframe\">\n",
       "  <thead>\n",
       "    <tr style=\"text-align: right;\">\n",
       "      <th></th>\n",
       "      <th>Spend ($)</th>\n",
       "      <th>Installs</th>\n",
       "      <th>CPI ($)</th>\n",
       "      <th>D1 Retention</th>\n",
       "      <th>D3 Retention</th>\n",
       "      <th>D7 ROAS (%)</th>\n",
       "      <th>D3_CPRU ($)</th>\n",
       "    </tr>\n",
       "    <tr>\n",
       "      <th>Network</th>\n",
       "      <th></th>\n",
       "      <th></th>\n",
       "      <th></th>\n",
       "      <th></th>\n",
       "      <th></th>\n",
       "      <th></th>\n",
       "      <th></th>\n",
       "    </tr>\n",
       "  </thead>\n",
       "  <tbody>\n",
       "    <tr>\n",
       "      <th>Meta Ads</th>\n",
       "      <td>2000</td>\n",
       "      <td>1000</td>\n",
       "      <td>2.00</td>\n",
       "      <td>0.42</td>\n",
       "      <td>0.25</td>\n",
       "      <td>35</td>\n",
       "      <td>8.000000</td>\n",
       "    </tr>\n",
       "    <tr>\n",
       "      <th>Google AC</th>\n",
       "      <td>1500</td>\n",
       "      <td>800</td>\n",
       "      <td>1.88</td>\n",
       "      <td>0.38</td>\n",
       "      <td>0.22</td>\n",
       "      <td>45</td>\n",
       "      <td>8.522727</td>\n",
       "    </tr>\n",
       "    <tr>\n",
       "      <th>Applovin</th>\n",
       "      <td>1200</td>\n",
       "      <td>700</td>\n",
       "      <td>1.71</td>\n",
       "      <td>0.33</td>\n",
       "      <td>0.19</td>\n",
       "      <td>30</td>\n",
       "      <td>9.022556</td>\n",
       "    </tr>\n",
       "    <tr>\n",
       "      <th>TikTok</th>\n",
       "      <td>800</td>\n",
       "      <td>600</td>\n",
       "      <td>1.33</td>\n",
       "      <td>0.40</td>\n",
       "      <td>0.20</td>\n",
       "      <td>20</td>\n",
       "      <td>6.666667</td>\n",
       "    </tr>\n",
       "  </tbody>\n",
       "</table>\n",
       "</div>"
      ],
      "text/plain": [
       "           Spend ($)  Installs  CPI ($)  D1 Retention  D3 Retention  \\\n",
       "Network                                                               \n",
       "Meta Ads        2000      1000     2.00          0.42          0.25   \n",
       "Google AC       1500       800     1.88          0.38          0.22   \n",
       "Applovin        1200       700     1.71          0.33          0.19   \n",
       "TikTok           800       600     1.33          0.40          0.20   \n",
       "\n",
       "           D7 ROAS (%)  D3_CPRU ($)  \n",
       "Network                              \n",
       "Meta Ads            35     8.000000  \n",
       "Google AC           45     8.522727  \n",
       "Applovin            30     9.022556  \n",
       "TikTok              20     6.666667  "
      ]
     },
     "execution_count": 5,
     "metadata": {},
     "output_type": "execute_result"
    }
   ],
   "source": [
    "df['D3_CPRU ($)'] = df['Spend ($)'] / (df['Installs'] * df['D3 Retention'])\n",
    "df"
   ]
  },
  {
   "cell_type": "markdown",
   "id": "99787efb-521f-4c44-a6fe-cfcfba5c3c7d",
   "metadata": {},
   "source": [
    "### 2. Rank the networks based on cost efficiency and ROI potential."
   ]
  },
  {
   "cell_type": "code",
   "execution_count": 6,
   "id": "567633ad-9e21-49a0-9f0a-601382a2e72b",
   "metadata": {},
   "outputs": [],
   "source": [
    "# Cost Efficiency = > Lower is better\n",
    "# ROI (Return on Investment) = Net Profit / Cost of Investment = > Higher is better"
   ]
  },
  {
   "cell_type": "code",
   "execution_count": 7,
   "id": "325eacd0-6ec0-4633-b223-3687800f4d2c",
   "metadata": {},
   "outputs": [
    {
     "name": "stdout",
     "output_type": "stream",
     "text": [
      "Cost Efficiency Ranking\n",
      "           D3_CPRU ($)\n",
      "Network               \n",
      "TikTok        6.666667\n",
      "Meta Ads      8.000000\n",
      "Google AC     8.522727\n",
      "Applovin      9.022556\n"
     ]
    }
   ],
   "source": [
    "df_cost_efficiency = df.sort_values(by='D3_CPRU ($)', ascending=True)\n",
    "\n",
    "print(\"Cost Efficiency Ranking\")\n",
    "print(df_cost_efficiency[['D3_CPRU ($)']])"
   ]
  },
  {
   "cell_type": "code",
   "execution_count": 8,
   "id": "61904965-af6b-480e-9a3a-3dd0b3831af5",
   "metadata": {},
   "outputs": [
    {
     "name": "stdout",
     "output_type": "stream",
     "text": [
      "ROI Potential Ranking\n",
      "           D7 ROAS (%)\n",
      "Network               \n",
      "Google AC           45\n",
      "Meta Ads            35\n",
      "Applovin            30\n",
      "TikTok              20\n"
     ]
    }
   ],
   "source": [
    "df_roi_potential = df.sort_values(by='D7 ROAS (%)', ascending=False)\n",
    "\n",
    "print(\"ROI Potential Ranking\")\n",
    "print(df_roi_potential[['D7 ROAS (%)']])"
   ]
  },
  {
   "cell_type": "markdown",
   "id": "c531436c-c9f0-42f9-a819-1022b02b4707",
   "metadata": {},
   "source": [
    "### 3. Based on the data, which network(s) would you scale next, pause, or re-test — and why?"
   ]
  },
  {
   "cell_type": "code",
   "execution_count": 9,
   "id": "f04ac066-05fb-4308-bbdd-65d1d6f5f040",
   "metadata": {},
   "outputs": [
    {
     "data": {
      "text/plain": [
       "(D3_CPRU ($)    8.052988\n",
       " dtype: float64,\n",
       " D7 ROAS (%)    32.5\n",
       " dtype: float64)"
      ]
     },
     "execution_count": 9,
     "metadata": {},
     "output_type": "execute_result"
    }
   ],
   "source": [
    "# Average D3_CPRU and D7 ROAS\n",
    "\n",
    "df_cost_efficiency[['D3_CPRU ($)']].mean() , df_roi_potential[['D7 ROAS (%)']].mean()"
   ]
  },
  {
   "cell_type": "markdown",
   "id": "cfd32b85-49ca-4977-944a-fc20f5531e2f",
   "metadata": {},
   "source": [
    "- Google AC → Scale\n",
    "\n",
    "  Why?: En yüksek D7 ROAS (45%) → ROI potansiyeli en yüksek. CPRU biraz fazla (≈$8.52). \n",
    "\n",
    "\n",
    "- Meta Ads → Scale (test-and-scale)\n",
    "\n",
    "  Why?: Dengeli; D7 ROAS 35% (iyi) ve CPDRU ortalamaya yakın ($8.00).\n",
    "\n",
    "\n",
    "- TikTok → Re-Test \n",
    "\n",
    "  Why?: En düşük CPDRU ($6.67) yani kullanıcı maliyeti düşük ama D7 ROAS çok düşük (20%) — kullanıcı kalitesi/monetizasyon sorunlu.\n",
    "\n",
    "\n",
    "- Applovin → Pause\n",
    "\n",
    "  Why?: Hem en yüksek CPRU (~$9.02) hem de düşük-orta ROAS (30%).\n",
    "\n",
    "\n",
    "***Açıklama : Daha çok ortalamaları baz alarak karar oluşturturdum. Diğer taskda bu kararlar doğrultusunda performans geliştirme çalışması yapmayı planladım."
   ]
  },
  {
   "cell_type": "markdown",
   "id": "87709183-8857-441f-8646-a7ca21dd43ab",
   "metadata": {},
   "source": [
    "### 4. Identify 2–3 possible hypotheses to improve performance (e.g., creative direction, audience type, event optimization). "
   ]
  },
  {
   "cell_type": "markdown",
   "id": "e1b78251-90f9-4251-b80a-0195e945e53f",
   "metadata": {},
   "source": [
    "- CPRU = Spend / (Installs × Retention)\n",
    "- ROAS = (Revenue from ad campaign / cost of ad campaign ) * 100\n",
    "- CPI = Total ad spend / Total installs"
   ]
  },
  {
   "cell_type": "code",
   "execution_count": 10,
   "id": "0422cd19-97f5-400f-b872-19e93a081e10",
   "metadata": {},
   "outputs": [],
   "source": [
    "# The game is monetized with interstitial ads and rewarded videos, with a small in-app purchase (IAP) share"
   ]
  },
  {
   "cell_type": "markdown",
   "id": "b2714eb2-cc21-4c15-95cc-e2e0ac3a44ea",
   "metadata": {},
   "source": [
    "##### Audience Type Hypothesis (TikTok)\n",
    " \n",
    "TikTok has the cheapest CPRU ($6.67) but the lowest D7 ROAS (20%).\n",
    "\n",
    "This suggests that the platform attracts very low-cost but \"low-quality\" users.\n",
    "\n",
    "Hypothesis: If we narrow the target audience using high-retention peers or specific interest groups (puzzle games), TikTok campaigns will attract higher LTV users, increasing D7 ROAS while maintaining a low CPRU.\n",
    "\n"
   ]
  },
  {
   "cell_type": "markdown",
   "id": "6f283ea6-85b0-49b1-b002-4a56e796c874",
   "metadata": {},
   "source": [
    "##### Creative Direction Hypothesis (Meta)\n",
    "\n",
    "Hypothesis: If we switch the campaign optimization event from install to a deeper value-based event (in-app purchase), Meta’s delivery algorithm will prioritize higher-quality users with stronger monetization potential.As a result, we expect an increase in D7 ROAS and lower Cost per Retained User (CPRU), even if CPI slightly increases.\n"
   ]
  },
  {
   "cell_type": "markdown",
   "id": "75e7aa3f-97bc-426c-b917-6a542b952e5e",
   "metadata": {},
   "source": [
    "##### Audience Optimization Hypothesis (Meta)\n",
    "\n",
    "Meta has a good D7 ROAS, but its CPRU is slightly high. High-quality but expensive users. This may indicate that campaigns are still focused on existing audiences and the system is not sufficiently exploring less expensive users.\n",
    "\n",
    "Hypothesis: If the campaign target audience is optimized and expanded to broader or more cost-effective lookalike/interest audiences, the system can achieve cheaper installs and the CPI will decrease."
   ]
  },
  {
   "cell_type": "markdown",
   "id": "f5c48d0d-ea40-40fb-b75c-5ff135a6239a",
   "metadata": {},
   "source": [
    "## PART 2 — Creative Performance Deep Dive"
   ]
  },
  {
   "cell_type": "markdown",
   "id": "34d0b377-b330-47d4-a885-48a72188dfc1",
   "metadata": {},
   "source": [
    "### Tasks:"
   ]
  },
  {
   "cell_type": "code",
   "execution_count": 11,
   "id": "6cbedf92-9126-4450-a283-cfd4d3ea1b48",
   "metadata": {},
   "outputs": [],
   "source": [
    "performance_data = {\n",
    "    'Creative': ['A – Funny Fails', 'B – Satisfying Merge', 'C – Challenge Level'],\n",
    "    'CTR (%)': [3.8, 2.2, 4.5],\n",
    "    'CVR (%)': [40, 45, 35],\n",
    "    'CPI ($)': [2.10, 1.80, 1.60],\n",
    "    'D1 Retention': ['43%', '41%', '35%'],\n",
    "    'D7 ROAS (%)': [32, 38, 25]\n",
    "}"
   ]
  },
  {
   "cell_type": "code",
   "execution_count": 12,
   "id": "7706f5bc-7360-494e-9070-0aca74fc247f",
   "metadata": {},
   "outputs": [
    {
     "data": {
      "text/html": [
       "<div>\n",
       "<style scoped>\n",
       "    .dataframe tbody tr th:only-of-type {\n",
       "        vertical-align: middle;\n",
       "    }\n",
       "\n",
       "    .dataframe tbody tr th {\n",
       "        vertical-align: top;\n",
       "    }\n",
       "\n",
       "    .dataframe thead th {\n",
       "        text-align: right;\n",
       "    }\n",
       "</style>\n",
       "<table border=\"1\" class=\"dataframe\">\n",
       "  <thead>\n",
       "    <tr style=\"text-align: right;\">\n",
       "      <th></th>\n",
       "      <th>CTR (%)</th>\n",
       "      <th>CVR (%)</th>\n",
       "      <th>CPI ($)</th>\n",
       "      <th>D1 Retention</th>\n",
       "      <th>D7 ROAS (%)</th>\n",
       "    </tr>\n",
       "    <tr>\n",
       "      <th>Creative</th>\n",
       "      <th></th>\n",
       "      <th></th>\n",
       "      <th></th>\n",
       "      <th></th>\n",
       "      <th></th>\n",
       "    </tr>\n",
       "  </thead>\n",
       "  <tbody>\n",
       "    <tr>\n",
       "      <th>A – Funny Fails</th>\n",
       "      <td>3.8</td>\n",
       "      <td>40</td>\n",
       "      <td>2.1</td>\n",
       "      <td>43%</td>\n",
       "      <td>32</td>\n",
       "    </tr>\n",
       "    <tr>\n",
       "      <th>B – Satisfying Merge</th>\n",
       "      <td>2.2</td>\n",
       "      <td>45</td>\n",
       "      <td>1.8</td>\n",
       "      <td>41%</td>\n",
       "      <td>38</td>\n",
       "    </tr>\n",
       "    <tr>\n",
       "      <th>C – Challenge Level</th>\n",
       "      <td>4.5</td>\n",
       "      <td>35</td>\n",
       "      <td>1.6</td>\n",
       "      <td>35%</td>\n",
       "      <td>25</td>\n",
       "    </tr>\n",
       "  </tbody>\n",
       "</table>\n",
       "</div>"
      ],
      "text/plain": [
       "                      CTR (%)  CVR (%)  CPI ($) D1 Retention  D7 ROAS (%)\n",
       "Creative                                                                 \n",
       "A – Funny Fails           3.8       40      2.1          43%           32\n",
       "B – Satisfying Merge      2.2       45      1.8          41%           38\n",
       "C – Challenge Level       4.5       35      1.6          35%           25"
      ]
     },
     "execution_count": 12,
     "metadata": {},
     "output_type": "execute_result"
    }
   ],
   "source": [
    "df_meta = pd.DataFrame(performance_data)\n",
    "\n",
    "df_meta= df_meta.set_index(\"Creative\")\n",
    "\n",
    "df_meta"
   ]
  },
  {
   "cell_type": "markdown",
   "id": "b9f43c23-cd61-4bf3-819f-f0b794dc9bca",
   "metadata": {},
   "source": [
    "##### Analyze the relationship between CTR, CVR, CPI, and ROAS."
   ]
  },
  {
   "cell_type": "code",
   "execution_count": 13,
   "id": "d8e68143-a96c-4304-941f-96074d97c02d",
   "metadata": {},
   "outputs": [],
   "source": [
    "# CTR (Click-through rate) => (Number of clicks / number of impressions) * 100\n",
    "# CVR (Conversion rate) => (conversions / total visitors) * 100"
   ]
  },
  {
   "cell_type": "markdown",
   "id": "a81a99fb-1f1b-44c1-a2bc-d27137b0e8d7",
   "metadata": {},
   "source": [
    "Install rate per impression ≈ CTR × CVR\n",
    "\n",
    "- A: 3.8% × 40% = 0.038 × 0.40 = 0.0152 = 1.52% (installs per impression)\n",
    "\n",
    "- B: 2.2% × 45% = 0.022 × 0.45 = 0.0099 = 0.99%\n",
    "\n",
    "- C: 4.5% × 35% = 0.045 × 0.35 = 0.01575 = 1.575%\n",
    "\n",
    "C and A have the highest display→install efficiency while B the lowest."
   ]
  },
  {
   "cell_type": "markdown",
   "id": "2644dacf-9c1e-463b-9446-762511513f85",
   "metadata": {},
   "source": [
    "If we divide the D7 ROAS percentage by the CPI, we have a comparison of which creative gives the better D7 return per spend.\n",
    "\n",
    "- A: 32 / 2.10 = ≈ 15.24\n",
    "\n",
    "- B: 38 / 1.80 = ≈ 21.11\n",
    "\n",
    "- C: 25 / 1.60 = ≈ 15.63\n",
    "\n",
    "B has the highest D7 return-per-spend density (best ROI). A and C are close, but B is clearly ahead."
   ]
  },
  {
   "cell_type": "markdown",
   "id": "7ee57d51-98fc-4e32-a2ce-ce8abf153e2a",
   "metadata": {},
   "source": [
    "C: Low cost and high traffic (scalability advantage), but low user quality and revenue.\n",
    "\n",
    "B: Low CTR but high CVR and highest D7 ROAS—attracts more quality users; high cost-effectiveness.\n",
    "\n",
    "A: Good CTR and very good D1 retention, but moderate D7 ROAS."
   ]
  },
  {
   "cell_type": "markdown",
   "id": "c3342681-d471-4938-9087-f27425cf1b56",
   "metadata": {},
   "source": [
    "##### Which creative would you continue, pause, or iterate on?"
   ]
  },
  {
   "cell_type": "markdown",
   "id": "b9d71ef8-a464-4249-b8b9-c431c3aeb9e2",
   "metadata": {},
   "source": [
    "B – Satisfying Merge => Scale\n",
    "\n",
    "Why: Highest D7 ROAS/CPI, best D7 ROAS (38%). High CVR.\n",
    "\n",
    "C – Challenge Level\t=> Iterate\n",
    "\n",
    "Why: Lowest CPI and highest CTR → scalable, but poor D1 retention and D7 ROAS. This means your creative isn't attracting the right audience.\n",
    "\n",
    "A – Funny Fails\t=> Iterate\n",
    "\n",
    "Why: Balanced metrics, D1 retention is highest but D7 ROAS is average. A is a good creative.\n",
    "\n",
    "Priority B > A > C"
   ]
  },
  {
   "cell_type": "markdown",
   "id": "bc9d19bf-fc3b-44d5-ac59-ebbd3c4aab91",
   "metadata": {},
   "source": [
    "#####  Suggest two data-backed creative iteration ideas (e.g., new opening hook, visual tone, or CTA variation)"
   ]
  },
  {
   "cell_type": "markdown",
   "id": "f1c99fe8-5397-4ca7-8256-c1bacedb1740",
   "metadata": {},
   "source": [
    "Iteration 1 — Expectation alignment (C için)\n",
    "\n",
    "C yüksek CTR ama düşük retention/ROAS ⇒ reklam kullanıcıya yanlış beklenti veriyor olabilir\n",
    "\n",
    "Fikir: Reklamın ilk 2–3 saniyesini değiştirmek: “Gerçek oyun akışı” veya “gerçek ödül sahneleri” gösteren 2 varyant üret. Bir varyantta oyun içi ödül/ödüllendirme (reward hint) vurgulanacak; diğer varyantta sosyal/rekabet yönü azaltılacak ve kolay başarı hissi vurgulanacak.\n",
    "\n",
    "Amacımız D1 retention ve D7 ROAS yüzdesini arttırmak. Ayrıca CPI kabul edilebilir sınırda kalmalı.\n",
    "\n",
    "Test setup: A/B test (C_original vs C_variant1 vs C_variant2). Her varyant için %50 - %50 ayırım yapıp sonrasında istatistiksel test\n",
    "\n",
    "istatistiksel test: D7 ROAS'ta % istatiksel olarak anlamlılık (p < 0.05) kontrolü. (z-test daha mantıklı olur.)\n"
   ]
  },
  {
   "cell_type": "markdown",
   "id": "131616ca-84f9-4bf7-817f-216a25316b94",
   "metadata": {},
   "source": [
    "Iteration 2 — CTA (A için)\n",
    "\n",
    "A iyi retention ama B daha iyi monetizasyon. A’nın retention’ını monetize etmeye çalışabiliriz.\n",
    "\n",
    "Hedefimiz A için D7 ROAS ve ARPU arttırmak.\n",
    "\n",
    "(A için): Reklam sonuna kısa bir CTA/teaser eklenebilir — “İlk 24 saatte özel ödül” veya “2. seviyede bonus” gibi gerçek oyun içi değer vurgusu. Bu, IAP veya rewarded video (özellikle rewarded video) etkileşimini artırabilir.\n",
    "\n",
    "Test setup: Her kreatif için tek değişkenli A/B test."
   ]
  },
  {
   "cell_type": "markdown",
   "id": "77d805a1-ea40-42d4-9a5b-f6d9ac5ed585",
   "metadata": {},
   "source": [
    "## References"
   ]
  },
  {
   "cell_type": "markdown",
   "id": "a134c215-5941-4cf5-a5e9-2ea24cd2d308",
   "metadata": {},
   "source": [
    "- https://tr-tr.facebook.com/business/help/139628083350822\n",
    "- https://ads.tiktok.com/help/article/creative-center?lang=tr\n",
    "- https://www.appsflyer.com/glossary/interstitials/\n",
    "- https://metalla.digital/meta-ad-hooks-that-drive-conversions-in-2025/\n",
    "- https://www.ideasoft.com.tr/call-to-action-cta-nedir/\n",
    "- https://segwise.ai/blog/optimization-techniques-meta-ad-campaigns-mobile-gaming\n",
    "- https://www.facebook.com/business/ads-guide/update/video/audience-network-native/app-installs"
   ]
  },
  {
   "cell_type": "code",
   "execution_count": null,
   "id": "d55b3305-2240-4441-a5ab-ac80fbdab99a",
   "metadata": {},
   "outputs": [],
   "source": []
  }
 ],
 "metadata": {
  "kernelspec": {
   "display_name": "Python 3 (ipykernel)",
   "language": "python",
   "name": "python3"
  },
  "language_info": {
   "codemirror_mode": {
    "name": "ipython",
    "version": 3
   },
   "file_extension": ".py",
   "mimetype": "text/x-python",
   "name": "python",
   "nbconvert_exporter": "python",
   "pygments_lexer": "ipython3",
   "version": "3.12.7"
  }
 },
 "nbformat": 4,
 "nbformat_minor": 5
}
